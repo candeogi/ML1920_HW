{
 "cells": [
  {
   "cell_type": "markdown",
   "metadata": {},
   "source": [
    "# Classification on Wine Dataset\n",
    "\n",
    "## IMPORTANT: make sure to rerun all the code from the beginning to obtain the results for the final version of your notebook, since this is the way we will do it before evaluting your notebook!!!\n",
    "\n",
    "### Dataset description\n",
    "\n",
    "We will be working with a dataset on wines from the UCI machine learning repository\n",
    "(http://archive.ics.uci.edu/ml/datasets/Wine). It contains data for 178 instances. \n",
    "The dataset is the results of a chemical analysis of wines grown in the same region\n",
    "in Italy but derived from three different cultivars. The analysis determined the\n",
    "quantities of 13 constituents found in each of the three types of wines. \n",
    "\n",
    "### The features in the dataset are:\n",
    "\n",
    "- Alcohol\n",
    "- Malic acid\n",
    "- Ash\n",
    "- Alcalinity of ash\n",
    "- Magnesium\n",
    "- Total phenols\n",
    "- Flavanoids\n",
    "- Nonflavanoid phenols\n",
    "- Proanthocyanins\n",
    "- Color intensity\n",
    "- Hue\n",
    "- OD280/OD315 of diluted wines\n",
    "- Proline\n",
    "\n"
   ]
  },
  {
   "cell_type": "markdown",
   "metadata": {},
   "source": [
    "We first import all the packages that are needed"
   ]
  },
  {
   "cell_type": "code",
   "execution_count": 1,
   "metadata": {
    "jupyter": {
     "outputs_hidden": true
    }
   },
   "outputs": [],
   "source": [
    "%matplotlib inline\n",
    "import matplotlib.pyplot as plt\n",
    "\n",
    "\n",
    "import numpy as np\n",
    "import scipy as sp\n",
    "from scipy import stats\n",
    "from sklearn import datasets\n",
    "from sklearn import linear_model"
   ]
  },
  {
   "cell_type": "markdown",
   "metadata": {},
   "source": [
    "# Perceptron\n",
    "We will implement the perceptron and use it to learn a halfspace with 0-1 loss."
   ]
  },
  {
   "cell_type": "markdown",
   "metadata": {},
   "source": [
    "**TO DO** Set the random seed to your ID (matricola)."
   ]
  },
  {
   "cell_type": "code",
   "execution_count": 2,
   "metadata": {
    "jupyter": {
     "outputs_hidden": true
    }
   },
   "outputs": [],
   "source": [
    "IDnumber = 1206150\n",
    "np.random.seed(IDnumber)"
   ]
  },
  {
   "cell_type": "markdown",
   "metadata": {},
   "source": [
    "Load the dataset from scikit learn and then split in training set and test set (50%-50%) after applying a random permutation to the datset."
   ]
  },
  {
   "cell_type": "code",
   "execution_count": 3,
   "metadata": {
    "jupyter": {
     "outputs_hidden": true
    }
   },
   "outputs": [
    {
     "name": "stdout",
     "output_type": "stream",
     "text": [
      "m:178\n",
      "(178, 13)\n"
     ]
    }
   ],
   "source": [
    "# Load the dataset from scikit learn\n",
    "wine = datasets.load_wine()\n",
    "\n",
    "m = wine.data.shape[0]\n",
    "print('m:'+str(m))\n",
    "permutation = np.random.permutation(m)\n",
    "\n",
    "X = wine.data[permutation]\n",
    "Y = wine.target[permutation]\n",
    "print(X.shape)"
   ]
  },
  {
   "cell_type": "markdown",
   "metadata": {},
   "source": [
    "We are going to classify class \"1\" vs the other two classes (0 and 2). We are going to relabel the other classes (0 and 2) as \"-1\" so that we can use it directly with the perceptron."
   ]
  },
  {
   "cell_type": "code",
   "execution_count": 4,
   "metadata": {
    "jupyter": {
     "outputs_hidden": true
    }
   },
   "outputs": [],
   "source": [
    "#let's relabel classes 0 and 2 as -1\n",
    "\n",
    "for i in range(len(Y)):\n",
    "    if Y[i] != 1:\n",
    "        Y[i] = -1"
   ]
  },
  {
   "cell_type": "markdown",
   "metadata": {},
   "source": [
    "**TO DO** Divide the data into training set and test set (50% of the data each)"
   ]
  },
  {
   "cell_type": "code",
   "execution_count": 5,
   "metadata": {
    "jupyter": {
     "outputs_hidden": true
    }
   },
   "outputs": [
    {
     "name": "stdout",
     "output_type": "stream",
     "text": [
      "n. of 1: 37\n",
      "n.of -1 :52\n",
      "[-1 -1 -1 -1 -1  1  1 -1  1  1  1  1  1  1 -1 -1 -1  1 -1 -1  1  1 -1 -1\n",
      " -1 -1  1 -1 -1  1 -1 -1  1 -1 -1  1 -1  1  1 -1 -1 -1 -1 -1  1 -1  1  1\n",
      "  1 -1 -1 -1 -1  1  1 -1 -1  1  1  1 -1 -1 -1  1 -1  1  1 -1  1 -1 -1 -1\n",
      " -1  1  1 -1 -1  1  1 -1 -1  1 -1 -1 -1  1  1 -1 -1]\n"
     ]
    }
   ],
   "source": [
    "#Divide in training and test: make sure that your training set\n",
    "#contains at least 10 elements from class 1 and at least 10 elements\n",
    "#from class -1! If it does not, modify the code so to apply more random\n",
    "#permutations (or the same permutation multiple times) until this happens.\n",
    "\n",
    "#m_training needs to be the number of samples in the training set\n",
    "m_training = m//2\n",
    "\n",
    "#m_test needs to be the number of samples in the test set\n",
    "m_test = m-m_training\n",
    "\n",
    "#this code should change the permutation of the dataset if not heterogenous\n",
    "isHet=False\n",
    "\n",
    "#this could potentially loop to infinite if bad dataset, but this is not the case... i hope\n",
    "while(not(isHet)):\n",
    "    X_training = X[:m_training,:]\n",
    "    Y_training = Y[:m_training]\n",
    "    X_test = X[m_training:,:]\n",
    "    Y_test = Y[m_training:]\n",
    "    countOne=0\n",
    "    countMOne=0\n",
    "    for y in Y_training:\n",
    "        if(y==1):\n",
    "            countOne = countOne+1\n",
    "        else:\n",
    "            countMOne= countMOne+1\n",
    "\n",
    "    if(countOne>=10)and(countMOne>=10):\n",
    "        isHet=True\n",
    "    else:\n",
    "        print('permuted')\n",
    "        print(Y_training)\n",
    "        permutation = np.random.permutation(m)\n",
    "        X = wine.data[permutation]\n",
    "        Y = wine.target[permutation]\n",
    "    \n",
    "print('n. of 1: '+str(countOne))\n",
    "print('n.of -1 :'+str(countMOne) )\n",
    "print(Y_training) #to make sure that Y_training contains both 1 and -1"
   ]
  },
  {
   "cell_type": "markdown",
   "metadata": {},
   "source": [
    "**TO DO** Now add a 1 in front of each sample so that we can use a vector to describe all the coefficients of the model. You can use the function $hstack$ in $numpy$"
   ]
  },
  {
   "cell_type": "code",
   "execution_count": 6,
   "metadata": {
    "jupyter": {
     "outputs_hidden": true
    }
   },
   "outputs": [
    {
     "name": "stdout",
     "output_type": "stream",
     "text": [
      "x_training (89, 14)\n",
      "x_test (89, 14)\n"
     ]
    }
   ],
   "source": [
    "#add a 1 to each sample\n",
    "X_training = np.hstack((np.ones((m_training,1)),X_training))\n",
    "X_test = np.hstack((np.ones((m_test,1)),X_test))\n",
    "print('x_training',X_training.shape)\n",
    "print('x_test',X_test.shape)\n"
   ]
  },
  {
   "cell_type": "markdown",
   "metadata": {},
   "source": [
    "**TO DO** Now complete the function *perceptron*. Since the perceptron does not terminate if the data is not linearly separable, your implementation should return the desired output (see below) if it reached the termination condition seen in class or if a maximum number of iterations have already been run, where 1 iteration corresponds to 1 update of the perceptron weights. If the perceptron returns because the maximum number of iterations has been reached, you should return an appropriate model. \n",
    "\n",
    "The input parameters to pass are:\n",
    "- $X$: the matrix of input features, one row for each sample\n",
    "- $Y$: the vector of labels for the input features matrix X\n",
    "- $max\\_num\\_iterations$: the maximum number of iterations for running the perceptron\n",
    "\n",
    "The output values are:\n",
    "- $best\\_w$: the vector with the coefficients of the best model\n",
    "- $best\\_error$: the *fraction* of missclassified samples for the best model"
   ]
  },
  {
   "cell_type": "code",
   "execution_count": 7,
   "metadata": {},
   "outputs": [],
   "source": [
    "#perceptron with permutations of vectors\n",
    "def perceptron(X,Y,max_num_iterations):\n",
    "    len_w=len(X[0,:])\n",
    "    w=np.zeros((1,len_w))\n",
    "    for t in range(max_num_iterations):\n",
    "        for i in range(len(X)):\n",
    "            if Y[i]*np.dot(w,X[i,:]) <=0 :\n",
    "                w = w + Y[i]*X[i,:]           \n",
    "    best_w=w\n",
    "\n",
    "    count=0\n",
    "    for i in range(len(X)):\n",
    "        if(np.sign(np.sum(best_w*X[i,:]))!=np.sign(Y[i])):\n",
    "            count=count+1    \n",
    "    best_error=count/len(X)\n",
    "    return best_w, best_error\n"
   ]
  },
  {
   "cell_type": "code",
   "execution_count": 8,
   "metadata": {},
   "outputs": [],
   "source": [
    "#perceptron with permutations of vectors\n",
    "def perceptronPermutation(X,Y,max_num_iterations):\n",
    "    len_w=len(X[0,:])\n",
    "    w=np.zeros((1,len_w))\n",
    "    for t in range(max_num_iterations):\n",
    "        #from pseudocode: \"Exists 'i' such that...\" is this supposed to be random?\n",
    "        permutation = np.random.permutation(len(X))\n",
    "        X_pm = X[permutation]\n",
    "        Y_pm = Y[permutation]\n",
    "        #...it performs way worse so i commented this part.\n",
    "        for i in range(len(X_pm)):\n",
    "            if Y_pm[i]*np.dot(w,X_pm[i,:]) <=0 :\n",
    "                w = w + Y_pm[i]*X_pm[i,:]           \n",
    "    best_w=w\n",
    "\n",
    "    count=0\n",
    "    for i in range(len(X)):\n",
    "        if(np.sign(np.sum(best_w*X[i,:]))!=np.sign(Y[i])):\n",
    "            count=count+1    \n",
    "    best_error=count/len(X)\n",
    "    return best_w, best_error\n"
   ]
  },
  {
   "cell_type": "markdown",
   "metadata": {},
   "source": [
    "Now we use the implementation above of the perceptron to learn a model from the training data using 100 iterations and print the error of the best model we have found."
   ]
  },
  {
   "cell_type": "code",
   "execution_count": 9,
   "metadata": {
    "jupyter": {
     "outputs_hidden": true
    }
   },
   "outputs": [
    {
     "name": "stdout",
     "output_type": "stream",
     "text": [
      "Training error with 100 iterations: 0.19101123595505617\n"
     ]
    }
   ],
   "source": [
    "#now run the perceptron for 100 iterations\n",
    "w_found, training_error = perceptron(X_training,Y_training, 100)\n",
    "#print(w_found)\n",
    "print(\"Training error with 100 iterations: \"+str(training_error))"
   ]
  },
  {
   "cell_type": "markdown",
   "metadata": {},
   "source": [
    "**TO DO** use the best model $w\\_found$ to predict the labels for the test dataset and print the fraction of missclassified samples in the test set (that is an estimate of the true loss)."
   ]
  },
  {
   "cell_type": "code",
   "execution_count": 10,
   "metadata": {
    "jupyter": {
     "outputs_hidden": true
    }
   },
   "outputs": [
    {
     "name": "stdout",
     "output_type": "stream",
     "text": [
      "Estimated true loss with 100 iterations:0.29213483146067415\n"
     ]
    }
   ],
   "source": [
    "#now use the w_found to make predictions on test dataset\n",
    "\n",
    "#num_errors = number of errors in the test set\n",
    "num_errors = 0.\n",
    "\n",
    "#ADD CODE!\n",
    "num_errors=0\n",
    "for i in range(len(X_test)):\n",
    "    if(np.sign(np.dot(w_found,X_test[i,:]))!=np.sign(Y_test[i])):\n",
    "        num_errors=num_errors+1    \n",
    "true_loss_estimate = num_errors/m_test\n",
    "\n",
    "#NOTE: you can avoid using num_errors if you prefer, as long as true_loss_estimate is correct\n",
    "print(\"Estimated true loss with 100 iterations:\"+str(true_loss_estimate))"
   ]
  },
  {
   "cell_type": "markdown",
   "metadata": {},
   "source": [
    "**TO DO**: what relation do you observe between the training error and the (estimated) true loss? Is this what you expected? Explain what you observe and why it does or does not conform to your expectations.\n",
    "\n",
    "**ANSWER**: I can observe that the training error is lower than the (estimated) true loss. This is expected because the vector of weights i found it's fitted over the training set by using the perceptron algorithm. "
   ]
  },
  {
   "cell_type": "markdown",
   "metadata": {},
   "source": [
    "**TO DO** Copy the code from the last 2 cells above in the cell below and repeat the training with 10000 iterations. "
   ]
  },
  {
   "cell_type": "code",
   "execution_count": 11,
   "metadata": {
    "jupyter": {
     "outputs_hidden": true
    }
   },
   "outputs": [
    {
     "name": "stdout",
     "output_type": "stream",
     "text": [
      "Training error with 10000 iterations: 0.06741573033707865\n",
      "Estimated true loss with 10000 iterations:0.0898876404494382\n"
     ]
    }
   ],
   "source": [
    "#now run the perceptron for 10000 iterations here!\n",
    "w_found, training_error = perceptron(X_training,Y_training, 10000)\n",
    "\n",
    "#training_error = error on the training set\n",
    "print(\"Training error with 10000 iterations: \"+str(training_error))\n",
    "\n",
    "num_errors=0\n",
    "for i in range(len(X_test)):\n",
    "    if(np.sign(np.dot(w_found,X_test[i,:]))!=np.sign(Y_test[i])):\n",
    "        num_errors=num_errors+1    \n",
    "        \n",
    "true_loss_estimate = num_errors/m_test\n",
    "\n",
    "#NOTE: you can avoid using num_errors if you prefer, as long as true_loss_estimate is correct\n",
    "print(\"Estimated true loss with 10000 iterations:\"+str(true_loss_estimate))"
   ]
  },
  {
   "cell_type": "markdown",
   "metadata": {},
   "source": [
    "**QUESTION:** What changes in the training error and in the test error (in terms of fraction of missclassified samples)? Explain what you observe.\n",
    "\n",
    "**ANSWER:** \n",
    "This time by doing 10000 iterations of the perceptron over the training set we did learn a set of weights that fit way better the training dataset. In this way we have less missclassified sample.  \n",
    "We could also state that the data on the training set is definitely representative of its generative distribution, this because with a lot of iterations we do not simply overfit the weights on the training set but we learn more about the data itself (as you can see the estimated true loss decreases as well as the training error)."
   ]
  },
  {
   "cell_type": "markdown",
   "metadata": {},
   "source": [
    "# Logistic Regression\n",
    "Now we use logistic regression, as implemented in Scikit-learn, to predict labels. We first do it for 2 labels and then for 3 labels. We will also plot the decision region of logistic regression.\n",
    "\n",
    "We first load the dataset again."
   ]
  },
  {
   "cell_type": "code",
   "execution_count": 12,
   "metadata": {
    "jupyter": {
     "outputs_hidden": true
    }
   },
   "outputs": [],
   "source": [
    "# Load the dataset from scikit learn\n",
    "wine = datasets.load_wine()\n",
    "\n",
    "m = wine.data.shape[0]\n",
    "permutation = np.random.permutation(m)\n",
    "\n",
    "X = wine.data[permutation]\n",
    "Y = wine.target[permutation]"
   ]
  },
  {
   "cell_type": "markdown",
   "metadata": {},
   "source": [
    "**TO DO** As for the previous part, divide the data into training and test (50%-50%), relabel classes 0 and 2 as -1. Here there is no need to add a 1 at the beginning of each row, since it will be done automatically by the function we will use."
   ]
  },
  {
   "cell_type": "code",
   "execution_count": 13,
   "metadata": {
    "jupyter": {
     "outputs_hidden": true
    }
   },
   "outputs": [
    {
     "name": "stdout",
     "output_type": "stream",
     "text": [
      "n. of 1: 33\n",
      "n.of -1 :56\n",
      "[ 1 -1 -1 -1  1 -1 -1  1  1 -1 -1 -1  1  1 -1  1 -1 -1 -1  1 -1 -1  1  1\n",
      " -1  1  1 -1 -1  1 -1  1  1 -1 -1  1 -1  1 -1  1 -1 -1 -1  1 -1  1 -1 -1\n",
      " -1  1 -1 -1 -1 -1 -1 -1 -1 -1 -1  1 -1 -1 -1 -1 -1 -1  1 -1 -1 -1  1 -1\n",
      "  1 -1 -1  1  1  1 -1 -1  1 -1  1  1  1 -1 -1  1 -1]\n"
     ]
    }
   ],
   "source": [
    "#Divide in training and test: make sure that your training set\n",
    "#contains at least 10 elements from class 1 and at least 10 elements\n",
    "#from class -1! If it does not, modify the code so to apply more random\n",
    "#permutations (or the same permutation multiple times) until this happens.\n",
    "#IMPORTANT: do not change the random seed.\n",
    "\n",
    "m_training = m//2\n",
    "m_test = m-m_training\n",
    "\n",
    "#let's relabel classes 0 and 2 as -1\n",
    "for i in range(len(Y)):\n",
    "    if Y[i] != 1:\n",
    "        Y[i] = -1\n",
    "\n",
    "#this code should change the permutation of the dataset if not heterogenous\n",
    "isHet=False\n",
    "while(not(isHet)):\n",
    "    #X_training = instances for training set\n",
    "    X_training = X[:m_training,:]\n",
    "    #Y_training = labels for the training set\n",
    "    Y_training = Y[:m_training]\n",
    "    #X_test = instances for test set\n",
    "    X_test = X[m_training:,:]\n",
    "    #Y_test = labels for the test set\n",
    "    Y_test = Y[m_training:]\n",
    "    countOne=0\n",
    "    countMOne=0\n",
    "    for y in Y_training:\n",
    "        if(y==1):\n",
    "            countOne = countOne+1\n",
    "        else:\n",
    "            countMOne= countMOne+1\n",
    "\n",
    "    if(countOne>=10)and(countMOne>=10):\n",
    "        isHet=True\n",
    "    else:\n",
    "        print('permuted')\n",
    "        print(Y_training)\n",
    "        permutation = np.random.permutation(m)\n",
    "        X = wine.data[permutation]\n",
    "        Y = wine.target[permutation]\n",
    "    \n",
    "print('n. of 1: '+str(countOne))\n",
    "print('n.of -1 :'+str(countMOne) )\n",
    "print(Y_training) #to make sure that Y_training contains both 1 and -1\n"
   ]
  },
  {
   "cell_type": "markdown",
   "metadata": {},
   "source": [
    "To define a logistic regression model in Scikit-learn use the instruction\n",
    "\n",
    "$linear\\_model.LogisticRegression(C=1e5)$\n",
    "\n",
    "($C$ is a parameter related to *regularization*, a technique that\n",
    "we will see later in the course. Setting it to a high value is almost\n",
    "as ignoring regularization, so the instruction above corresponds to the\n",
    "logistic regression you have seen in class.)\n",
    "\n",
    "To learn the model you need to use the $fit(...)$ instruction and to predict you need to use the $predict(...)$ function. See the Scikit-learn documentation for how to use it.\n",
    "\n",
    "**TO DO** Define the logistic regression model, then learn the model using the training set and predict on the test set. Then print the fraction of samples missclassified in the training set and in the test set."
   ]
  },
  {
   "cell_type": "code",
   "execution_count": 14,
   "metadata": {
    "jupyter": {
     "outputs_hidden": true
    }
   },
   "outputs": [
    {
     "name": "stdout",
     "output_type": "stream",
     "text": [
      "Error rate on training set: 0.0\n",
      "Error rate on test set: 0.10112359550561797\n"
     ]
    },
    {
     "name": "stderr",
     "output_type": "stream",
     "text": [
      "C:\\ProgramData\\Anaconda3\\lib\\site-packages\\sklearn\\linear_model\\logistic.py:432: FutureWarning: Default solver will be changed to 'lbfgs' in 0.22. Specify a solver to silence this warning.\n",
      "  FutureWarning)\n"
     ]
    }
   ],
   "source": [
    " #part on logistic regression for 2 classes\n",
    "logreg = linear_model.LogisticRegression(C=1e5)\n",
    "\n",
    "#learn from training set\n",
    "logreg.fit(X_training,Y_training)\n",
    "\n",
    "#predict on training set\n",
    "predictedY = logreg.predict(X_training)\n",
    "\n",
    "num_errors_training=0\n",
    "for i in range(len(predictedY)):\n",
    "    if(np.sign(predictedY[i])!=np.sign(Y_training[i])):\n",
    "        num_errors_training=num_errors_training+1    \n",
    "error_rate_training = num_errors_training/m_training\n",
    "\n",
    "# print the error rate = fraction of missclassified samples\n",
    "print(\"Error rate on training set: \"+str(error_rate_training))\n",
    "\n",
    "#predict on test set\n",
    "predictedY = logreg.predict(X_test)\n",
    "\n",
    "num_errors_test=0\n",
    "for i in range(len(predictedY)):\n",
    "    if(np.sign(predictedY[i])!=np.sign(Y_test[i])):\n",
    "        num_errors_test=num_errors_test+1    \n",
    "error_rate_test = num_errors_test/m_test\n",
    "\n",
    "#print the error rate = fraction of missclassified samples\n",
    "\n",
    "print(\"Error rate on test set: \"+str(error_rate_test))"
   ]
  },
  {
   "cell_type": "markdown",
   "metadata": {},
   "source": [
    "Now we do logistic regression for classification with 3 classes.\n",
    "\n",
    "**TO DO** First: let's load the data once again (with the same permutation from before)."
   ]
  },
  {
   "cell_type": "code",
   "execution_count": 15,
   "metadata": {
    "jupyter": {
     "outputs_hidden": true
    }
   },
   "outputs": [
    {
     "name": "stdout",
     "output_type": "stream",
     "text": [
      "n. of 1: 33\n",
      "n.of -1 :56\n",
      "[1 2 2 2 1 0 2 1 1 0 0 0 1 1 2 1 0 2 0 1 2 0 1 1 2 1 1 0 2 1 0 1 1 0 2 1 0\n",
      " 1 2 1 0 2 2 1 0 1 2 0 2 1 0 2 0 2 0 2 0 0 0 1 2 2 2 0 0 0 1 0 0 0 1 2 1 0\n",
      " 0 1 1 1 0 0 1 0 1 1 1 0 0 1 2]\n"
     ]
    }
   ],
   "source": [
    "#part on logistic regression for 3 classes\n",
    "\n",
    "#Divide in training and test: make sure that your training set\n",
    "#contains at least 10 elements from each of the 3 classes!\n",
    "#If it does not, modify the code so to apply more random\n",
    "#permutations (or the same permutation multiple times) until this happens.\n",
    "#IMPORTANT: do not change the random seed.\n",
    "X = wine.data[permutation]\n",
    "Y = wine.target[permutation]\n",
    "\n",
    "#this code should change the permutation of the dataset if not heterogenous\n",
    "isHet=False\n",
    "while(not(isHet)):\n",
    "    X_training = X[:m_training,:]\n",
    "    Y_training = Y[:m_training]\n",
    "    X_test = X[m_training:,:]\n",
    "    Y_test = Y[m_training:]\n",
    "    countOne=0\n",
    "    countMOne=0\n",
    "    for y in Y_training:\n",
    "        if(y==1):\n",
    "            countOne = countOne+1\n",
    "        else:\n",
    "            countMOne= countMOne+1\n",
    "\n",
    "    if(countOne>=10)and(countMOne>=10):\n",
    "        isHet=True\n",
    "    else:\n",
    "        print('permuted')\n",
    "        print(Y_training)\n",
    "        permutation = np.random.permutation(m)\n",
    "        X = wine.data[permutation]\n",
    "        Y = wine.target[permutation]\n",
    "    \n",
    "print('n. of 1: '+str(countOne))\n",
    "print('n.of -1 :'+str(countMOne) )\n",
    "print(Y_training) #to make sure that Y_training contains both 1 and -1"
   ]
  },
  {
   "cell_type": "markdown",
   "metadata": {},
   "source": [
    "**TO DO** Now perform logistic regression (instructions as before) for 3 classes, learning a model from the training set and predicting on the test set. Print the fraction of missclassified samples on the training set and the fraction of missclassified samples on the test set."
   ]
  },
  {
   "cell_type": "code",
   "execution_count": 16,
   "metadata": {
    "jupyter": {
     "outputs_hidden": true
    }
   },
   "outputs": [
    {
     "name": "stdout",
     "output_type": "stream",
     "text": [
      "Error rate on training set: 0.0\n",
      "Error rate on test set: 0.07865168539325842\n"
     ]
    },
    {
     "name": "stderr",
     "output_type": "stream",
     "text": [
      "C:\\ProgramData\\Anaconda3\\lib\\site-packages\\sklearn\\linear_model\\logistic.py:432: FutureWarning: Default solver will be changed to 'lbfgs' in 0.22. Specify a solver to silence this warning.\n",
      "  FutureWarning)\n",
      "C:\\ProgramData\\Anaconda3\\lib\\site-packages\\sklearn\\linear_model\\logistic.py:469: FutureWarning: Default multi_class will be changed to 'auto' in 0.22. Specify the multi_class option to silence this warning.\n",
      "  \"this warning.\", FutureWarning)\n"
     ]
    }
   ],
   "source": [
    "#part on logistic regression for 3 classes\n",
    "logreg = linear_model.LogisticRegression(C=1e5)\n",
    "\n",
    "\n",
    "#learn from training set\n",
    "logreg.fit(X_training,Y_training)\n",
    "\n",
    "#predict on training set\n",
    "predictedY = logreg.predict(X_training)\n",
    "\n",
    "num_errors_training=0\n",
    "for i in range(len(predictedY)):\n",
    "    if(np.sign(predictedY[i])!=np.sign(Y_training[i])):\n",
    "        num_errors_training=num_errors_training+1    \n",
    "error_rate_training = num_errors_training/m_training\n",
    "\n",
    "# print the error rate = fraction of missclassified samples\n",
    "print(\"Error rate on training set: \"+str(error_rate_training))\n",
    "\n",
    "#predict on test set\n",
    "predictedY = logreg.predict(X_test)\n",
    "\n",
    "num_errors_test=0\n",
    "for i in range(len(predictedY)):\n",
    "    if(np.sign(predictedY[i])!=np.sign(Y_test[i])):\n",
    "        num_errors_test=num_errors_test+1    \n",
    "error_rate_test = num_errors_test/m_test\n",
    "\n",
    "#print the error rate = fraction of missclassified samples\n",
    "\n",
    "print(\"Error rate on test set: \"+str(error_rate_test))"
   ]
  },
  {
   "cell_type": "markdown",
   "metadata": {},
   "source": [
    "**TO DO** Now pick two features and restrict the dataset to include only two features, whose indices are specified in the $feature$ vector below. Then split into training and test."
   ]
  },
  {
   "cell_type": "code",
   "execution_count": 17,
   "metadata": {
    "jupyter": {
     "outputs_hidden": true
    }
   },
   "outputs": [],
   "source": [
    "#to make the plot we need to reduce the data to 2D, so we choose two features\n",
    "\n",
    "features_list = ['Alcohol',\n",
    "'Malic acid',\n",
    "'Ash',\n",
    "'Alcalinity of ash',\n",
    "'Magnesium',\n",
    "'Total phenols',\n",
    "'Flavanoids',\n",
    "'Nonflavanoid phenols',\n",
    "'Proanthocyanins',\n",
    "'Color intensity',\n",
    "'Hue',\n",
    "'OD280/OD315 of diluted wines',\n",
    "'Proline']\n",
    "labels_list = ['class_0', 'class_1', 'class_2']\n",
    "\n",
    "index_feature1 = 0\n",
    "index_feature2 = 9\n",
    "features = [index_feature1, index_feature2]\n",
    "\n",
    "feature_name0 = features_list[features[0]]\n",
    "feature_name1 = features_list[features[1]]\n",
    "\n",
    "#X_red is X reduced to include only the 2 features of\n",
    "#indices index_feature1 and index_feature2\n",
    "X_red = X[:,features]\n",
    "\n",
    "X_red_training = X_red[:m_training,:]\n",
    "Y_training = Y[:m_training]\n",
    "\n",
    "X_red_test = X_red[m_training:,:]\n",
    "Y_test = Y[m_training:]"
   ]
  },
  {
   "cell_type": "markdown",
   "metadata": {},
   "source": [
    "Now learn a model using the training data."
   ]
  },
  {
   "cell_type": "code",
   "execution_count": 18,
   "metadata": {
    "jupyter": {
     "outputs_hidden": true
    }
   },
   "outputs": [
    {
     "name": "stderr",
     "output_type": "stream",
     "text": [
      "C:\\ProgramData\\Anaconda3\\lib\\site-packages\\sklearn\\linear_model\\logistic.py:432: FutureWarning: Default solver will be changed to 'lbfgs' in 0.22. Specify a solver to silence this warning.\n",
      "  FutureWarning)\n",
      "C:\\ProgramData\\Anaconda3\\lib\\site-packages\\sklearn\\linear_model\\logistic.py:469: FutureWarning: Default multi_class will be changed to 'auto' in 0.22. Specify the multi_class option to silence this warning.\n",
      "  \"this warning.\", FutureWarning)\n"
     ]
    },
    {
     "name": "stdout",
     "output_type": "stream",
     "text": [
      "Error rate on training set: 0.10112359550561797\n"
     ]
    }
   ],
   "source": [
    "#ADD CODE! (only for learning from training data)\n",
    "#logreg = linear_model.LogisticRegression(C=1e5,solver='lbfgs', multi_class='multinomial')\n",
    "logreg = linear_model.LogisticRegression(C=1e5)\n",
    "\n",
    "#learn from training set\n",
    "logreg.fit(X_red_training,Y_training)\n",
    "\n",
    "#predict on training set\n",
    "predictedY = logreg.predict(X_red_training)\n",
    "\n",
    "num_errors_training=0\n",
    "for i in range(len(predictedY)):\n",
    "    if(np.sign(predictedY[i])!=np.sign(Y_training[i])):\n",
    "        num_errors_training=num_errors_training+1    \n",
    "error_rate_training = num_errors_training/m_training\n",
    "\n",
    "# print the error rate = fraction of missclassified samples\n",
    "print(\"Error rate on training set: \"+str(error_rate_training))"
   ]
  },
  {
   "cell_type": "markdown",
   "metadata": {},
   "source": [
    "If everything is ok, the code below uses the model in $logreg$ to plot the decision region for the two features chosen above, with colors denoting the predicted value. It also plots the points (with correct labels) in the training set. It makes a similar plot for the test set."
   ]
  },
  {
   "cell_type": "code",
   "execution_count": 19,
   "metadata": {
    "jupyter": {
     "outputs_hidden": true
    }
   },
   "outputs": [
    {
     "data": {
      "image/png": "[encoded data removed]",
      "text/plain": [
       "<Figure size 288x216 with 1 Axes>"
      ]
     },
     "metadata": {},
     "output_type": "display_data"
    },
    {
     "data": {
      "image/png": "[encoded data removed]",
      "text/plain": [
       "<Figure size 288x216 with 1 Axes>"
      ]
     },
     "metadata": {},
     "output_type": "display_data"
    }
   ],
   "source": [
    "# Plot the decision boundary. For that, we will assign a color to each\n",
    "# point in the mesh [x_min, x_max]x[y_min, y_max].\n",
    "h = .02  # step size in the mesh\n",
    "x_min, x_max = X_red[:, 0].min() - .5, X_red[:, 0].max() + .5\n",
    "y_min, y_max = X_red[:, 1].min() - .5, X_red[:, 1].max() + .5\n",
    "xx, yy = np.meshgrid(np.arange(x_min, x_max, h), np.arange(y_min, y_max, h))\n",
    "\n",
    "Z = logreg.predict(np.c_[xx.ravel(), yy.ravel()])\n",
    "\n",
    "# Put the result into a color plot\n",
    "Z = Z.reshape(xx.shape)\n",
    "\n",
    "plt.figure(1, figsize=(4, 3))\n",
    "plt.pcolormesh(xx, yy, Z, cmap=plt.cm.Paired)\n",
    "\n",
    "# Plot also the training points\n",
    "plt.scatter(X_red_training[:, 0], X_red_training[:, 1], c=Y_training, edgecolors='k', cmap=plt.cm.Paired)\n",
    "plt.xlabel(feature_name0)\n",
    "plt.ylabel(feature_name1)\n",
    "\n",
    "plt.xlim(xx.min(), xx.max())\n",
    "plt.ylim(yy.min(), yy.max())\n",
    "plt.xticks(())\n",
    "plt.yticks(())\n",
    "plt.title('Training set')\n",
    "\n",
    "plt.show()\n",
    "\n",
    "# Put the result into a color plot\n",
    "Z = Z.reshape(xx.shape)\n",
    "plt.figure(1, figsize=(4, 3))\n",
    "plt.pcolormesh(xx, yy, Z, cmap=plt.cm.Paired)\n",
    "\n",
    "# Plot also the test points \n",
    "plt.scatter(X_red_test[:, 0], X_red_test[:, 1], c=Y_test, edgecolors='k', cmap=plt.cm.Paired, marker='s')\n",
    "plt.xlabel(feature_name0)\n",
    "plt.ylabel(feature_name1)\n",
    "\n",
    "plt.xlim(xx.min(), xx.max())\n",
    "plt.ylim(yy.min(), yy.max())\n",
    "plt.xticks(())\n",
    "plt.yticks(())\n",
    "plt.title('Test set')\n",
    "\n",
    "plt.show()"
   ]
  },
  {
   "cell_type": "code",
   "execution_count": null,
   "metadata": {
    "jupyter": {
     "outputs_hidden": true
    }
   },
   "outputs": [],
   "source": []
  }
 ],
 "metadata": {
  "anaconda-cloud": {},
  "kernelspec": {
   "display_name": "Python 3",
   "language": "python",
   "name": "python3"
  },
  "language_info": {
   "codemirror_mode": {
    "name": "ipython",
    "version": 3
   },
   "file_extension": ".py",
   "mimetype": "text/x-python",
   "name": "python",
   "nbconvert_exporter": "python",
   "pygments_lexer": "ipython3",
   "version": "3.7.3"
  },
  "toc": {
   "base_numbering": 1,
   "nav_menu": {},
   "number_sections": true,
   "sideBar": true,
   "skip_h1_title": false,
   "title_cell": "Table of Contents",
   "title_sidebar": "Contents",
   "toc_cell": false,
   "toc_position": {
    "height": "calc(100% - 180px)",
    "left": "10px",
    "top": "150px",
    "width": "175.2px"
   },
   "toc_section_display": true,
   "toc_window_display": true
  },
  "varInspector": {
   "cols": {
    "lenName": 16,
    "lenType": 16,
    "lenVar": 40
   },
   "kernels_config": {
    "python": {
     "delete_cmd_postfix": "",
     "delete_cmd_prefix": "del ",
     "library": "var_list.py",
     "varRefreshCmd": "print(var_dic_list())"
    },
    "r": {
     "delete_cmd_postfix": ") ",
     "delete_cmd_prefix": "rm(",
     "library": "var_list.r",
     "varRefreshCmd": "cat(var_dic_list()) "
    }
   },
   "types_to_exclude": [
    "module",
    "function",
    "builtin_function_or_method",
    "instance",
    "_Feature"
   ],
   "window_display": false
  }
 },
 "nbformat": 4,
 "nbformat_minor": 4
}
